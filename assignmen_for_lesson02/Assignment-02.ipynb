{
 "cells": [
  {
   "cell_type": "markdown",
   "metadata": {},
   "source": [
    "### 1. Re-code the house price machine learning\n",
    "\n",
    "###### 1. Random Choose Method to get optimal *k* and *b*\n",
    "###### 2.Supervised Direction to get optimal *k* and *b*\n",
    "###### 3.Gradient Descent to get optimal *k* and *b*\n",
    "###### 4. Try different Loss function and learning rate. \n",
    "\n",
    "For example, you can change the loss function: $Loss = \\frac{1}{n} sum({y_i - \\hat{y_i}})^2$ to $Loss = \\frac{1}{n} sum(|{y_i - \\hat{y_i}}|)$\n",
    "\n",
    "And you can change the learning rate and observe the performance."
   ]
  },
  {
   "cell_type": "code",
   "execution_count": 2,
   "metadata": {},
   "outputs": [
    {
     "name": "stdout",
     "output_type": "stream",
     "text": [
      "2.9189409518617992 2.031201803438263 127.35556822881463\n",
      "1.9189409518617992 5.031201803438263 45.24201551477459\n",
      "0.9189409518617992 6.031201803438263 26.286371238066298\n"
     ]
    },
    {
     "data": {
      "image/png": "[encoded data removed]",
      "text/plain": [
       "<Figure size 432x288 with 1 Axes>"
      ]
     },
     "metadata": {
      "needs_background": "light"
     },
     "output_type": "display_data"
    }
   ],
   "source": [
    "import matplotlib.pyplot as plt\n",
    "import random\n",
    "import matplotlib.pyplot as plt\n",
    "import numpy as np\n",
    "\n",
    "xo = np.linspace(-10,10,50)\n",
    "yo =np.random.rand(50)\n",
    "zo = xo+yo*2\n",
    "yo = zo\n",
    "import math\n",
    "#plt.scatter(x,z)\n",
    "def draw_ori():\n",
    "    plt.scatter(xo,zo)\n",
    "def getY(x,k,b):\n",
    "    return k*x+b\n",
    "def getLoss(y1,y2,p=1):\n",
    "    sums = 0\n",
    "    for y1t,y2t in zip(y1,y2):\n",
    "        tm = (y1t-y2t)\n",
    "        tmp = math.pow(tm,2)\n",
    "        if p == 0:\n",
    "            print(\"loss:\",y1t,y2t,tm,tmp)\n",
    "        sums+=tmp\n",
    "    return sums/len(y1)\n",
    "def getStep(k,b,ra):\n",
    "    step = random.choice([[1,1],[1,-1],[-1,1],[-1,-1]])\n",
    "    return [step[0]*ra,step[1]*ra]\n",
    "def getKB():\n",
    "    rate = 100000\n",
    "    loss_min = 10000\n",
    "    ra = 1\n",
    "    k_min = 0\n",
    "    b_min = 0\n",
    "    k = random.random()*10\n",
    "    b = random.random()*10\n",
    "    next_step = [1,1]\n",
    "    for i in range(rate):\n",
    "        k = next_step[0] +k\n",
    "        b =next_step[1] +b\n",
    "        ym = [getY(xi,k,b) for xi in xo]\n",
    "        loss_now = getLoss(yo,ym) \n",
    "        #print(k,b)\n",
    "        if(loss_min> loss_now):\n",
    "            loss_min = loss_now\n",
    "            k_min = k\n",
    "            b_min = b\n",
    "            next_step =next_step\n",
    "            print(k,b,loss_min)\n",
    "            #l = getLoss(yo,ym)\n",
    "            #print(k,b,l,loss_min)\n",
    "        else:\n",
    "            #k = k-next_step[0]\n",
    "            #b =b-next_step[1]\n",
    "            next_step = getStep(k,b,ra)\n",
    "            #print(next_step)\n",
    "\n",
    "\n",
    "    return k_min,b_min\n",
    "def draw_dynamic(x1,y1):\n",
    "    plt.scatter(x1,y1)\n",
    "def getmin():\n",
    "    k,b = getKB()\n",
    "    y_min = [i*k+b for i in xo]\n",
    "    draw_ori()\n",
    "    draw_dynamic(xo,y_min)\n",
    "getmin()"
   ]
  },
  {
   "cell_type": "markdown",
   "metadata": {},
   "source": [
    "![](https://timgsa.baidu.com/timg?image&quality=80&size=b9999_10000&sec=1562414412237&di=8377c38d7b50c6f8d45b92ccc78dc1e7&imgtype=0&src=http%3A%2F%2Fmmbiz.qpic.cn%2Fmmbiz_jpg%2FlSyiavfm6wPgQDuDYa42IMgSkLOcPJU91RbkMibGy7VHLrhhNVLibTYk1iaLcmXKTdHc4icTDVia59QFXwqpW8cLflaw%2F640%3Fwx_fmt%3Djpeg)"
   ]
  },
  {
   "cell_type": "markdown",
   "metadata": {},
   "source": [
    "## 2. Answer following questions:\n",
    "\n",
    "\n",
    "###### 1. Why do we need machine learning methods instead of creating a complicated formula?\n"
   ]
  },
  {
   "cell_type": "markdown",
   "metadata": {},
   "source": [
    "Ans:有些规则太复杂人力难以推导出来"
   ]
  },
  {
   "cell_type": "markdown",
   "metadata": {},
   "source": [
    "###### 2.  Wha't's the disadvantages of `the 1st Random Choosen` methods in our course? "
   ]
  },
  {
   "cell_type": "markdown",
   "metadata": {},
   "source": [
    "Ans:没有目标得寻找，可能有很多无用的操作"
   ]
  },
  {
   "cell_type": "markdown",
   "metadata": {},
   "source": [
    "###### 3. Is the `2nd method supervised direction` better than 1st one?  What's the disadvantages of `the 2nd supversied directin` method? "
   ]
  },
  {
   "cell_type": "markdown",
   "metadata": {},
   "source": [
    "Ans:第二个相对第一个能有方向的需找参数值。执行步数可能少很多"
   ]
  },
  {
   "cell_type": "markdown",
   "metadata": {},
   "source": [
    "###### 4. Why do we use `Derivative / Gredient` to fit a target function? "
   ]
  },
  {
   "cell_type": "markdown",
   "metadata": {},
   "source": [
    "Ans:能够找到适配参数的方向"
   ]
  },
  {
   "cell_type": "markdown",
   "metadata": {},
   "source": [
    "###### 5. In the words 'Gredient Descent', what's the `Gredient` and what's the `Descent`?"
   ]
  },
  {
   "cell_type": "markdown",
   "metadata": {},
   "source": [
    "Ans:"
   ]
  },
  {
   "cell_type": "markdown",
   "metadata": {},
   "source": [
    "###### 6. What's the advantages of `the 3rd gradient descent method` compared to the previous methods?"
   ]
  },
  {
   "cell_type": "markdown",
   "metadata": {},
   "source": [
    "Ans:方向比较准，减少很多无用的执行步数"
   ]
  },
  {
   "cell_type": "markdown",
   "metadata": {},
   "source": [
    "###### 7. Using the simple words to describe: What's the machine leanring."
   ]
  },
  {
   "cell_type": "markdown",
   "metadata": {},
   "source": [
    "Ans:如何利用已有的数据生成一个函数，再用这个函数解决问题。"
   ]
  },
  {
   "cell_type": "markdown",
   "metadata": {},
   "source": [
    "## 3. Finish the search problem"
   ]
  },
  {
   "cell_type": "markdown",
   "metadata": {},
   "source": [
    "Please using the search policy to implement an agent. This agent receives two input, one is @param start station and the other is @param destination. Your agent should give the optimal route based on Beijing Subway system. "
   ]
  },
  {
   "cell_type": "markdown",
   "metadata": {},
   "source": [
    "> Deadline: 2019-July-13\n",
    "\n",
    ">Submit: Submit the source code and result to github. \n",
    "\n"
   ]
  },
  {
   "cell_type": "markdown",
   "metadata": {},
   "source": [
    "![](https://timgsa.baidu.com/timg?image&quality=80&size=b9999_10000&sec=1562414356407&di=b57814aafd215bb8b8d9d8cd37c573d6&imgtype=0&src=http%3A%2F%2Fcli.clewm.net%2Ffile%2F2015%2F03%2F24%2F174ed60082b8422ac0636cfd3efb9e7f.jpg)"
   ]
  },
  {
   "cell_type": "markdown",
   "metadata": {},
   "source": [
    "#### Dataflow: "
   ]
  },
  {
   "cell_type": "markdown",
   "metadata": {},
   "source": [
    "##### 1.\tGet data from web page.\n",
    "\n",
    "> a.\tGet web page source from: https://baike.baidu.com/item/%E5%8C%97%E4%BA%AC%E5%9C%B0%E9%93%81/408485\n",
    "\n",
    "> b.\tYou may need @package **requests**[https://2.python-requests.org/en/master/] page to get the response via url\n",
    "\n",
    "> c.\tYou may need save the page source to file system.\n",
    "\n",
    "> d.\tThe target of this step is to get station information of all the subway lines;\n",
    "\n",
    "> e.\tYou may need install @package beautiful soup[https://www.crummy.com/software/BeautifulSoup/bs4/doc/]  to get the url information, or just use > Regular Expression to get the url.  Our recommendation is that using the Regular Expression and BeautiflSoup both. \n",
    "\n",
    "> f.\tYou may need BFS to get all the related page url from one url. \n",
    "Question: Why do we use BFS to traverse web page (or someone said, build a web spider)?  Can DFS do this job? which is better? "
   ]
  },
  {
   "cell_type": "markdown",
   "metadata": {},
   "source": [
    "##### 2.\tPreprocessing data from page source.\n",
    "\n",
    "> a.\tBased on the page source gotten from url. You may need some more preprocessing of the page. \n",
    "\n",
    "> b.\tthe Regular Expression you may need to process the text information.\n",
    "\n",
    "> c.\tYou may need @package networkx, @package matplotlib to visualize data. \n",
    "\n",
    "> d.\tYou should build a dictionary or graph which could represent the connection information of Beijing subway routes. \n",
    "\n",
    "> e.\tYou may need the defaultdict, set data structures to implement this procedure. "
   ]
  },
  {
   "cell_type": "markdown",
   "metadata": {},
   "source": [
    "##### 3. Build the search agent\n",
    "\n",
    "> Build the search agent based on the graph we build.\n",
    "\n",
    "for example, when you run: \n",
    "\n",
    "```python\n",
    ">>> search('奥体中心', '天安门') \n",
    "```\n",
    "you need get the result: \n",
    "\n",
    "奥体中心-> A -> B -> C -> ... -> 天安门\n",
    "\n"
   ]
  },
  {
   "cell_type": "code",
   "execution_count": 6,
   "metadata": {},
   "outputs": [
    {
     "name": "stdout",
     "output_type": "stream",
     "text": [
      "UTF-8\n",
      "['北京地铁1号线(M1)线路图'] ['苹果园', '古城', '八角游乐园', '八宝山', '玉泉路', '五棵松', '万寿路', '公主坟', '军事博物馆', '木樨地', '南礼士路', '复兴门', '西单', '天安门西', '天安门东', '王府井', '东单', '建国门', '永安里', '国贸', '大望路', '四惠', '四惠东']\n",
      "['北京地铁2号线(内环)线路图'] ['积水潭', '鼓楼大街', '安定门', '雍和宫', '东直门', '东四十条', '朝阳门', '建国门', '北京站', '崇文门', '前门', '和平门', '宣武门', '长椿街', '复兴门', '阜成门', '车公庄', '西直门']\n",
      "['北京地铁2号线(外环)线路图'] ['西直门', '车公庄', '阜成门', '复兴门', '长椿街', '宣武门', '和平门', '前门', '崇文门', '北京站', '建国门', '朝阳门', '东四十条', '东直门', '雍和宫', '安定门', '鼓楼大街', '积水潭']\n",
      "['北京地铁4号线(M4)线路图'] ['安河桥北', '北宫门', '西苑', '圆明园', '北京大学东门', '中关村', '海淀黄庄', '人民大学', '魏公村', '国家图书馆', '动物园', '西直门', '新街口', '平安里', '西四', '灵境胡同', '西单', '宣武门', '菜市口', '陶然亭', '北京南站', '马家堡', '角门西', '公益西桥', '新宫', '西红门', '高米店北', '高米店南', '枣园', '清源路', '黄村西大街', '黄村火车站', '义和庄', '生物医药基地', '天宫院']\n",
      "['北京地铁5号线(M5)线路图'] ['宋家庄', '刘家窑', '蒲黄榆', '天坛东门', '磁器口', '崇文门', '东单', '灯市口', '东四', '张自忠路', '北新桥', '雍和宫', '和平里北街', '和平西桥', '惠新西街南口', '惠新西街北口', '大屯路东', '北苑路北', '立水桥南', '立水桥', '天通苑南', '天通苑', '天通苑北']\n",
      "['北京地铁6号线线路图'] ['海淀五路居', '慈寿寺', '花园桥', '白石桥南', '车公庄西', '车公庄', '平安里', '北海北', '南锣鼓巷', '东四', '朝阳门', '东大桥', '呼家楼', '金台路', '十里堡', '青年路', '褡裢坡', '黄渠', '常营', '草房', '物资学院路', '通州北关', '北运河西', '郝家府', '东夏园', '潞城']\n",
      "['北京地铁7号线线路图'] ['北京西站', '湾子', '达官营', '广安门内', '菜市口', '虎坊桥', '珠市口', '桥湾', '磁器口', '广渠门内', '广渠门外', '双井', '九龙山', '大郊亭', '百子湾', '化工', '南楼梓庄', '欢乐谷景区', '垡头', '双合', '焦化厂']\n",
      "['北京地铁8号线(M8)线路图'] ['朱辛庄', '育知路', '平西府', '回龙观东大街', '霍营', '育新', '西小口', '永泰庄', '林萃桥', '森林公园南门', '奥林匹克公园', '奥体中心', '北土城', '安华桥', '鼓楼大街', '什刹海', '南锣鼓巷']\n",
      "['北京地铁9号线(M9)线路图'] ['郭公庄', '丰台科技园', '科怡路', '丰台南路', '丰台东大街', '七里庄', '六里桥', '六里桥东', '北京西站', '军事博物馆', '白堆子', '白石桥南', '国家图书馆']\n",
      "['北京地铁10号线线路图'] ['巴沟', '苏州街', '海淀黄庄', '知春里', '知春路', '西土城', '牡丹园', '健德门', '北土城', '安贞门', '惠新西街南口', '芍药居', '太阳宫', '三元桥', '亮马桥', '农业展览馆', '团结湖', '呼家楼', '金台夕照', '国贸', '双井', '劲松', '潘家园', '十里河', '分钟寺', '成寿寺', '宋家庄', '石榴庄', '大红门', '角门东', '角门西', '草桥', '纪家庙', '首经贸', '丰台站', '泥洼', '西局', '六里桥', '莲花桥', '公主坟', '西钓鱼台', '慈寿寺', '车道沟', '长春桥', '火器营']\n",
      "['北京地铁13号线(M13)线路图'] ['西直门', '大钟寺', '知春路', '五道口', '上地', '西二旗', '龙泽', '回龙观', '霍营', '立水桥', '北苑', '望京西', '芍药居', '光熙门', '柳芳', '东直门']\n",
      "['北京地铁14号线东段线路图'] ['北京南站', '永定门外', '景泰', '蒲黄榆', '方庄', '十里河', '北工大西门', '九龙山', '大望路', '金台路', '枣营', '东风北桥', '将台', '望京南', '阜通', '望京', '东湖渠', '来广营', '善各庄']\n",
      "['北京地铁14号线西段线路图'] ['张郭庄', '园博园', '大瓦窑', '郭庄子', '大井', '七里庄', '西局']\n",
      "['北京地铁15号线线路图'] ['俸伯', '顺义', '石门', '南法信', '后沙峪', '花梨坎', '国展', '孙河', '马泉营', '崔各庄', '望京', '望京西', '关庄', '安立路', '奥林匹克公园', '北沙滩', '六道口', '清华东路西口']\n",
      "['北京地铁八通线(M1)线路图'] ['四惠', '四惠东', '高碑店', '传媒大学', '双桥', '管庄', '八里桥', '通州北苑', '果园', '九棵树', '梨园', '临河里', '土桥']\n",
      "['北京地铁昌平线线路图'] ['南邵', '沙河高教园', '沙河', '巩华城', '朱辛庄', '生命科学园', '西二旗']\n",
      "['北京地铁亦庄线线路图'] ['宋家庄', '肖村', '小红门', '旧宫', '亦庄桥', '亦庄文化园', '万源街', '荣京东街', '荣昌东街', '同济南路', '经海路', '次渠南', '次渠']\n",
      "['北京地铁房山线线路图'] ['苏庄', '良乡南关', '良乡大学城西', '良乡大学城', '良乡大学城北', '广阳城', '篱笆房', '长阳', '稻田', '大葆台', '郭公庄']\n",
      "['北京地铁机场线(L1)线路图'] ['东直门', '三元桥']\n",
      "{'刘家窑', '肖村', '石榴庄', '成寿寺'}\n",
      "271\n",
      "总站数: 11 路径: ['奥体中心', '北土城', '安华桥', '鼓楼大街', '什刹海', '南锣鼓巷', '东四', '灯市口', '东单', '王府井', '天安门东']\n"
     ]
    },
    {
     "data": {
      "text/plain": [
       "'\\nfor i,pa in enumerate(all_paths):\\n    if i == 0:\\n        min_path = pa\\n        continue\\n    if len(pa) < len(min_path):\\n        min_path = pa\\nprint(min_path)\\n'"
      ]
     },
     "execution_count": 6,
     "metadata": {},
     "output_type": "execute_result"
    }
   ],
   "source": [
    "# coding:utf-8\n",
    "import requests\n",
    "import re\n",
    "import copy\n",
    "#爬虫部分\n",
    "def getSubwayUrl():\n",
    "    \"\"\"获取北京所有地铁线路百度百科url\"\"\"\n",
    "    kv = {\"User-Agent\": \"Mozilla/5.0 (Windows NT 10.0; WOW64; rv:44.0) Gecko/20100101 Firefox/44.0\"}\n",
    "    url = \"https://baike.baidu.com/item/%E5%8C%97%E4%BA%AC%E5%9C%B0%E9%93%81/408485?fr=aladdin\"\n",
    "    url_head = \"https://baike.baidu.com\"\n",
    "    ret = requests.get(url,headers = kv)#,allow_redirects=True)\n",
    "    #print(ret.content)\n",
    "    #print(ret.encoding)\n",
    "\n",
    "    text = ret.text\n",
    "    te = text.encode(\"ISO-8859-1\").decode(\"utf-8\")\n",
    "\n",
    "    #pos = te.find(\"地铁1号线\")\n",
    "    #print(pos)\n",
    "    #print(te)\n",
    "    #print(te.find(\"线号路\"))\n",
    "\n",
    "    match_str = r'>线路号<.*?参考资料'\n",
    "    pattern = re.compile(match_str)\n",
    "\n",
    "    p = pattern.findall(te)\n",
    "    subways = {}\n",
    "    #what_we_want = r'href=\"(w+)\"<(>w+)<'\n",
    "    what_we_want = r'href=\"(.*?)\">(\\w+)<'\n",
    "    pattern_w = re.compile(what_we_want)\n",
    "    for item in p:\n",
    "        #print(item)\n",
    "        subway = pattern_w.findall(item)\n",
    "        for subway_item in subway:\n",
    "            if len(subway_item) < 2:\n",
    "                continue\n",
    "            url_t = url_head + subway_item[0]\n",
    "            subways[subway_item[1]] = url_t\n",
    "    return subways\n",
    "def getSubwayUrl2():\n",
    "    \"\"\"获取北京所有地铁线路百度百科url\"\"\"\n",
    "    kv = {\"User-Agent\": \"Mozilla/5.0 (Windows NT 10.0; WOW64; rv:44.0) Gecko/20100101 Firefox/44.0\"}\n",
    "    url = \"https://baike.baidu.com/item/%E5%8C%97%E4%BA%AC%E5%9C%B0%E9%93%81/408485?fr=aladdin\"\n",
    "    url_head = \"https://baike.baidu.com\"\n",
    "    ret = requests.get(url,headers = kv)#,allow_redirects=True)\n",
    "    #print(ret.content)\n",
    "    #print(ret.encoding)\n",
    "\n",
    "    text = ret.text\n",
    "    te = text.encode(\"ISO-8859-1\").decode(\"utf-8\")\n",
    "\n",
    "    #pos = te.find(\"地铁1号线\")\n",
    "    #print(pos)\n",
    "    #print(te)\n",
    "    #print(te.find(\"线号路\"))\n",
    "    match_str = r'运营中.*'\n",
    "    pattern = re.compile(match_str)\n",
    "\n",
    "    p = pattern.findall(te)\n",
    "    print(p)\n",
    "    subways = {}\n",
    "    #what_we_want = r'href=\"(w+)\"<(>w+)<'\n",
    "    what_we_want = r'href=\"(.*?)\">(\\w+)<'\n",
    "    pattern_w = re.compile(what_we_want)\n",
    "    for item in p:\n",
    "        #print(item)\n",
    "        subway = pattern_w.findall(item)\n",
    "        for subway_item in subway:\n",
    "            if len(subway_item) < 2:\n",
    "                continue\n",
    "            url_t = url_head + subway_item[0]\n",
    "            subways[subway_item[1]] = url_t\n",
    "    return subways\n",
    "subway_urls = getSubwayUrl()\n",
    "#print(subway_urls)\n",
    "def getSubdata(k,url, head = {\"User-Agent\": \"Mozilla/5.0 (Windows NT 10.0; WOW64; rv:44.0) Gecko/20100101 Firefox/44.0\"}):\n",
    "    \"\"\"通过单个百度百科url获取地铁的所有站点list\"\"\"\n",
    "    ret = requests.get(url,headers = head)\n",
    "    text = ret.text\n",
    "    te = text.encode(\"ISO-8859-1\").decode(\"utf-8\")\n",
    "    #print(url)\n",
    "    \n",
    "    station = r''\n",
    "    data = []\n",
    "    pattern_d = r''\n",
    "    if te.find(\"首末车时刻\") >= 0:\n",
    "        station = r'首末车时.*车站.*'\n",
    "        pattern_d = r' rowspan=\"1\">(\\w+)</td><td align=\"center\" valign=\"middle\">\\d+:\\d+<'\n",
    "        data = re.findall(station,te)\n",
    "    elif te.find(\"车站列表\") >=0:\n",
    "        #te = \"\".join(te.split(\"\\n\"))\n",
    "        pattern_d = r'>(\\w+).*width=.*>\\d+:\\d+'\n",
    "        station = r'车站列表.*车站名称.*'\n",
    "        data_t = re.findall(station,te)\n",
    "        for s in data_t:\n",
    "            data.extend(s.split(\"</td><td\"))\n",
    "        #print(data)\n",
    "        #te = \"\".join(re.findall(\"\\w+\",te))\n",
    "    #pattern = re.compile(station)\n",
    "   \n",
    "\n",
    "    \n",
    "    \n",
    "    \n",
    "    stations = []   \n",
    "    for item in data:\n",
    "        station_t = re.findall(pattern_d,item)\n",
    "        stations.extend(station_t)\n",
    "    #if url == \"https://baike.baidu.com/item/%E5%8C%97%E4%BA%AC%E5%9C%B0%E9%93%815%E5%8F%B7%E7%BA%BF\":\n",
    "        #print(te)\n",
    "        #print(data)\n",
    "    return stations\n",
    "def getSubway2():\n",
    "    \"\"\"\n",
    "    获取北京地铁线路和站点\n",
    "    \"\"\"\n",
    "    url = \"http://bj.bendibao.com/ditie/linemap.shtml\"\n",
    "    kv = {\"User-Agent\": \"Mozilla/5.0 (Windows NT 10.0; WOW64; rv:44.0) Gecko/20100101 Firefox/44.0\"}\n",
    "    ret = requests.get(url,headers = kv)#,allow_redirects=True)\n",
    "    #print(ret.content)\n",
    "    print(ret.encoding)\n",
    "\n",
    "    text = ret.text\n",
    "    #te = text.encode(\"ISO-8859-1\").decode(\"utf-8\")\n",
    "    pos = text.find(\"target=\\\"_blank\\\">北京地铁\")\n",
    "    pos = text.find(\"线路图</a></strong>\")\n",
    "    t_list = text.split(\"<div class=\\\"line-list-heading\")\n",
    "    subway_dict = {}\n",
    "    for line in t_list:\n",
    "        pos = line.find(\"线路图</a></strong>\")\n",
    "        if pos < 0:\n",
    "            continue\n",
    "        #print(line)\n",
    "        \n",
    "        p = r'target=\"_blank\">(北京地铁.*线路图)</a></strong>'\n",
    "        subways = re.findall(p,line)\n",
    "        if len(subways) != 1:\n",
    "            print(\"more\",subways)\n",
    "            continue\n",
    "        #print(subways)\n",
    "        stations_p = r'>([\\u4e00-\\u9fa5]+)</a></div>'#'<div class=\"station\">'\n",
    "        stations = re.findall(stations_p,line)\n",
    "        subway_dict[subways[0]] = stations\n",
    "        print(subways,stations)\n",
    "    return subway_dict\n",
    "subway_dict = getSubway2()\n",
    "\n",
    "def genMap(roads):\n",
    "    road_dict = {}\n",
    "    for k,v in roads.items():\n",
    "        if len(v) == 0:\n",
    "            continue\n",
    "        \n",
    "        if len(v) == 1:\n",
    "            road_dict[v[0]] = set()\n",
    "            continue     \n",
    "        for index,val in enumerate(v[:-1]):\n",
    "            next_i = index + 1\n",
    "            if val not in road_dict:\n",
    "                road_dict[val.strip()] = set()\n",
    "            if v[next_i].strip() not in road_dict:\n",
    "                road_dict[v[next_i].strip()] = set()\n",
    "            road_dict[val.strip()].add(v[next_i].strip())\n",
    "            road_dict[v[next_i].strip()].add(val.strip())\n",
    "    return road_dict\n",
    "road_dict = genMap(subway_dict)\n",
    "#for k,v in road_dict.items():\n",
    "#    print(k,v)\n",
    "def getSubwayDatas(subway_urls):\n",
    "    \"\"\"遍历所有北京地铁的百度百科url获取所有地铁的站点\"\"\"\n",
    "    stations = {}\n",
    "    for key,value in subway_urls.items():\n",
    "        #print(key,value)\n",
    "        data = getSubdata(key,value)\n",
    "        stations[key] = data\n",
    "    return stations\n",
    "def search(s1,s2):\n",
    "    stack = [s1]\n",
    "    visited = set()\n",
    "    dfsSearch(s1,s2,stack,visited)\n",
    "print(len(road_dict))\n",
    "all_paths = []\n",
    "def dfsSearch(s1,s2,stack,visited,roads = road_dict):\n",
    "    if len(stack) == 0:\n",
    "        return 0\n",
    "    tail = stack[-1]\n",
    "    #print(tail)\n",
    "    for item in roads[tail]:\n",
    "        if item == s2:\n",
    "            stack.append(item)\n",
    "            if stack in all_paths:\n",
    "                print(\"repeat path\",\"error\")\n",
    "                return -1\n",
    "            all_paths.append(copy.deepcopy(stack))\n",
    "            print(item,stack)\n",
    "\n",
    "            del stack[-1]\n",
    "            #return -1\n",
    "            continue\n",
    "        if item in stack :\n",
    "            continue\n",
    "        stack.append(item)\n",
    "        visited.add(item)\n",
    "        ret = dfsSearch(s1,s2,stack,visited)\n",
    "        if ret == -1:\n",
    "            return -1\n",
    "        del stack[-1]\n",
    "        if tail in visited:\n",
    "            visited.remove(tail)\n",
    "    return 0\n",
    "def dijkstra(s1,s2,road_dict):\n",
    "    dict_count = {}\n",
    "    dict_pre = {}\n",
    "    dict_count[s1] = 0\n",
    "    dict_pre[s1] = s1\n",
    "    length = 0  \n",
    "    keys = set()\n",
    "    while len(keys) < len(road_dict):\n",
    "        keys = set(dict_count.keys())\n",
    "        for key in keys:\n",
    "            next_num = dict_count[key] + 1\n",
    "            for item in road_dict[key]:\n",
    "                if item not in dict_count:\n",
    "                    dict_count[item] = next_num\n",
    "                    dict_pre[item] = key\n",
    "                if dict_count[item] > next_num:\n",
    "                    dict_count[item] = next_num\n",
    "                    dict_pre[item] = key\n",
    "                #print(key,item)\n",
    "        if len(dict_count) == length:\n",
    "            break\n",
    "        length = len(dict_count)\n",
    "    return dict_count,dict_pre\n",
    "def searchDijkstra(s1,s2):\n",
    "    dict_cout,dict_pre = dijkstra(s1,s2,road_dict)\n",
    "    if s2 not in dict_pre:\n",
    "        print(\"没找到路径\")\n",
    "        return []\n",
    "    road = []\n",
    "    pre = s2\n",
    "    while pre != s1:\n",
    "        if pre not in dict_pre:\n",
    "            print(\"没找到路径1111\")\n",
    "            return []\n",
    "        road.insert(0,pre)\n",
    "        pre = dict_pre[pre]\n",
    "        if pre == s1:\n",
    "            road.insert(0,pre) \n",
    "            break\n",
    "    return road\n",
    "road = searchDijkstra(\"奥体中心\",\"天安门东\")\n",
    "print(\"总站数:\",len(road),\"路径:\",road)\n",
    "#print(all_paths)\n",
    "min_path = []\n",
    "\"\"\"\n",
    "for i,pa in enumerate(all_paths):\n",
    "    if i == 0:\n",
    "        min_path = pa\n",
    "        continue\n",
    "    if len(pa) < len(min_path):\n",
    "        min_path = pa\n",
    "print(min_path)\n",
    "\"\"\""
   ]
  },
  {
   "cell_type": "markdown",
   "metadata": {},
   "source": [
    "## （Optional）Create different policies for transfer system.\n"
   ]
  },
  {
   "cell_type": "markdown",
   "metadata": {},
   "source": [
    "以下部门为可选部分，请酌情完成。 并不要求全部同学完成。"
   ]
  },
  {
   "cell_type": "markdown",
   "metadata": {},
   "source": [
    "As much as you can to use the already implemented search agent. You just need to define the **is_goal()**, **get_successor()**, **strategy()** three functions. \n",
    "\n",
    "> a.\tDefine different policies for transfer system. \n",
    "\n",
    "> b.\tSuch as Shortest Path Priority（路程最短优先）, Minimum Transfer Priority(最少换乘优先), Comprehensive Priority(综合优先)\n",
    "\n",
    "> c.\tImplement Continuous transfer. Based on the Agent you implemented, please add this feature: Besides the @param start and @param destination two stations, add some more stations, we called @param by_way, it means, our path should from the start and end, but also include the  @param by_way stations. \n",
    "\n",
    "e.g \n",
    "```\n",
    "1. Input:  start=A,  destination=B, by_way=[C] \n",
    "    Output: [A, … .., C, …. B]\n",
    "2. Input: start=A, destination=B, by_way=[C, D, E]\n",
    "    Output: [A … C … E … D … B]  \n",
    "    # based on your policy, the E station could be reached firstly. \n",
    "![image.png](attachment:image.png)\n",
    "```"
   ]
  },
  {
   "cell_type": "markdown",
   "metadata": {},
   "source": [
    "##### 5.\tTest your result with commercial applications. \n",
    "\n",
    "将你的结果和高德地图或者百度地图进行比较，如果有不同，请分析原因\n"
   ]
  },
  {
   "cell_type": "markdown",
   "metadata": {},
   "source": [
    "恭喜，完成本次课程，你对常用的人工智能方法以及有一定的了解了。基于规则的，基于概率模型的，基于搜索的，基于机器学习的。 可以说，我们现在通常见到的方法都能够归属到这几类方法中。 这就是**人工智能**，并没有很难是吧？ 继续加油！"
   ]
  },
  {
   "cell_type": "markdown",
   "metadata": {},
   "source": [
    "![](https://timgsa.baidu.com/timg?image&quality=80&size=b9999_10000&sec=1562415163815&di=4b29a2a863a8285212033760f288ed7a&imgtype=0&src=http%3A%2F%2F5b0988e595225.cdn.sohucs.com%2Fimages%2F20180710%2F8704194a1d7f46a383ddc29d40c9bca5.jpeg)"
   ]
  }
 ],
 "metadata": {
  "kernelspec": {
   "display_name": "Python 3",
   "language": "python",
   "name": "python3"
  },
  "language_info": {
   "codemirror_mode": {
    "name": "ipython",
    "version": 3
   },
   "file_extension": ".py",
   "mimetype": "text/x-python",
   "name": "python",
   "nbconvert_exporter": "python",
   "pygments_lexer": "ipython3",
   "version": "3.7.4"
  }
 },
 "nbformat": 4,
 "nbformat_minor": 2
}
