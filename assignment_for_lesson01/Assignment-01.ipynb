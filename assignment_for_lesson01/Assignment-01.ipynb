{
 "cells": [
  {
   "cell_type": "markdown",
   "metadata": {},
   "source": [
    "## Lesson-01 Assignment"
   ]
  },
  {
   "cell_type": "markdown",
   "metadata": {},
   "source": [
    ">"
   ]
  },
  {
   "cell_type": "markdown",
   "metadata": {},
   "source": [
    "`各位同学大家好，欢迎各位开始学习我们的人工智能课程。这门课程假设大家不具备机器学习和人工智能的知识，但是希望大家具备初级的Python编程能力。根据往期同学的实际反馈，我们课程的完结之后 能力能够超过80%的计算机人工智能/深度学习方向的硕士生的能力。`"
   ]
  },
  {
   "cell_type": "markdown",
   "metadata": {},
   "source": [
    "## 本次作业的内容"
   ]
  },
  {
   "cell_type": "markdown",
   "metadata": {},
   "source": [
    "#### 1. 复现课堂代码\n",
    "\n",
    "在本部分，你需要参照我们给大家的GitHub地址里边的课堂代码，结合课堂内容，复现内容。"
   ]
  },
  {
   "cell_type": "markdown",
   "metadata": {},
   "source": [
    "#### 2. 请回答以下问题\n",
    "\n",
    "回答以下问题，并将问题发送至 mqgao@kaikeba.com中：\n",
    "```\n",
    "    2.1. what do you want to acquire in this course？\n",
    "    2.2. what problems do you want to solve？\n",
    "    2.3. what’s the advantages you have to finish you goal?\n",
    "    2.4. what’s the disadvantages you need to overcome to finish you goal?\n",
    "    2.5. How will you plan to study in this course period?\n",
    "```"
   ]
  },
  {
   "cell_type": "markdown",
   "metadata": {},
   "source": [
    "#### 3. 如何提交\n",
    "代码 + 此 jupyter 相关，提交至自己的 github 中(**所以请务必把GitHub按照班主任要求录入在Trello中**)；\n",
    "第2问，请提交至mqgao@kaikeba.com邮箱。\n",
    "#### 4. 作业截止时间\n",
    "此次作业截止时间为 2019.7.6日"
   ]
  },
  {
   "cell_type": "markdown",
   "metadata": {},
   "source": [
    "#### 5. 完成以下问答和编程练习"
   ]
  },
  {
   "cell_type": "markdown",
   "metadata": {},
   "source": [
    ">"
   ]
  },
  {
   "cell_type": "markdown",
   "metadata": {},
   "source": [
    "## 基础理论部分"
   ]
  },
  {
   "cell_type": "markdown",
   "metadata": {},
   "source": [
    "#### 0. Can you come up out 3 sceneraies which use AI methods? "
   ]
  },
  {
   "cell_type": "markdown",
   "metadata": {},
   "source": [
    "Ans: {推荐系统，语音翻译，图片识别}"
   ]
  },
  {
   "cell_type": "markdown",
   "metadata": {},
   "source": [
    "#### 1. How do we use Github; Why do we use Jupyter and Pycharm;"
   ]
  },
  {
   "cell_type": "markdown",
   "metadata": {},
   "source": [
    "Ans: {github比较方便，jupyter轻量级编辑器，方便编辑公式等，pycharm适合正式调试运行python程序}"
   ]
  },
  {
   "cell_type": "markdown",
   "metadata": {},
   "source": [
    "#### 2. What's the Probability Model?"
   ]
  },
  {
   "cell_type": "markdown",
   "metadata": {},
   "source": [
    "Ans:通过概率判断一个事物存在的合理性"
   ]
  },
  {
   "cell_type": "markdown",
   "metadata": {},
   "source": [
    "#### 3. Can you came up with some sceneraies at which we could use Probability Model?"
   ]
  },
  {
   "cell_type": "markdown",
   "metadata": {},
   "source": [
    "Ans:语言模型，推荐系统"
   ]
  },
  {
   "cell_type": "markdown",
   "metadata": {},
   "source": [
    "#### 4. Why do we use probability and what's the difficult points for programming based on parsing and pattern match?"
   ]
  },
  {
   "cell_type": "markdown",
   "metadata": {},
   "source": [
    "Ans:匹配规则太多，而且规则变化的时候需要及时更改匹配规则"
   ]
  },
  {
   "cell_type": "markdown",
   "metadata": {},
   "source": [
    "#### 5. What's the Language Model;"
   ]
  },
  {
   "cell_type": "markdown",
   "metadata": {},
   "source": [
    "Ans:计算目标句子的生成概率。通过概率判断是否是句子"
   ]
  },
  {
   "cell_type": "markdown",
   "metadata": {},
   "source": [
    "#### 6. Can you came up with some sceneraies at which we could use Language Model?\n"
   ]
  },
  {
   "cell_type": "markdown",
   "metadata": {},
   "source": [
    "Ans:翻译"
   ]
  },
  {
   "cell_type": "markdown",
   "metadata": {},
   "source": [
    "#### 7. What's the 1-gram language model;"
   ]
  },
  {
   "cell_type": "markdown",
   "metadata": {},
   "source": [
    "Ans:"
   ]
  },
  {
   "cell_type": "markdown",
   "metadata": {},
   "source": [
    "#### 8. What's the disadvantages and advantages of 1-gram language model;"
   ]
  },
  {
   "cell_type": "markdown",
   "metadata": {},
   "source": [
    "Ans:"
   ]
  },
  {
   "cell_type": "markdown",
   "metadata": {},
   "source": [
    "#### 9. What't the 2-gram models;"
   ]
  },
  {
   "cell_type": "markdown",
   "metadata": {},
   "source": [
    "Ans:"
   ]
  },
  {
   "cell_type": "markdown",
   "metadata": {},
   "source": [
    "## 编程实践部分"
   ]
  },
  {
   "cell_type": "markdown",
   "metadata": {},
   "source": [
    "#### 1. 设计你自己的句子生成器"
   ]
  },
  {
   "cell_type": "markdown",
   "metadata": {},
   "source": [
    "如何生成句子是一个很经典的问题，从1940s开始，图灵提出机器智能的时候，就使用的是人类能不能流畅和计算机进行对话。和计算机对话的一个前提是，计算机能够生成语言。\n",
    "\n",
    "计算机如何能生成语言是一个经典但是又很复杂的问题。 我们课程上为大家介绍的是一种基于规则（Rule Based）的生成方法。该方法虽然提出的时间早，但是现在依然在很多地方能够大显身手。值得说明的是，现在很多很实用的算法，都是很久之前提出的，例如，二分查找提出与1940s, Dijstra算法提出于1960s 等等。"
   ]
  },
  {
   "cell_type": "markdown",
   "metadata": {},
   "source": [
    "在著名的电视剧，电影《西部世界》中，这些机器人们语言生成的方法就是使用的SyntaxTree生成语言的方法。\n",
    "\n",
    "> \n",
    ">\n",
    "\n",
    "![WstWorld](https://timgsa.baidu.com/timg?image&quality=80&size=b10000_10000&sec=1561818705&di=95ca9ff2ff37fcb88ae47b82c7079feb&src=http://s7.sinaimg.cn/mw690/006BKUGwzy75VK46FMi66&690)\n",
    "\n",
    "> \n",
    ">"
   ]
  },
  {
   "cell_type": "markdown",
   "metadata": {},
   "source": [
    "在这一部分，需要各位同学首先定义自己的语言。 大家可以先想一个应用场景，然后在这个场景下，定义语法。例如：\n",
    "\n",
    "在西部世界里，一个”人类“的语言可以定义为：\n",
    "``` \n",
    "human = \"\"\"\n",
    "human = 自己 寻找 活动\n",
    "自己 = 我 | 俺 | 我们 \n",
    "寻找 = 看看 | 找找 | 想找点\n",
    "活动 = 乐子 | 玩的\n",
    "\"\"\"\n",
    "```\n",
    "\n",
    "一个“接待员”的语言可以定义为\n",
    "```\n",
    "host = \"\"\"\n",
    "host = 寒暄 报数 询问 业务相关 结尾 \n",
    "报数 = 我是 数字 号 ,\n",
    "数字 = 单个数字 | 数字 单个数字 \n",
    "单个数字 = 1 | 2 | 3 | 4 | 5 | 6 | 7 | 8 | 9 \n",
    "寒暄 = 称谓 打招呼 | 打招呼\n",
    "称谓 = 人称 ,\n",
    "人称 = 先生 | 女士 | 小朋友\n",
    "打招呼 = 你好 | 您好 \n",
    "询问 = 请问你要 | 您需要\n",
    "业务相关 = 玩玩 具体业务\n",
    "玩玩 = 耍一耍 | 玩一玩\n",
    "具体业务 = 喝酒 | 打牌 | 打猎 | 赌博\n",
    "结尾 = 吗？\"\"\"\n",
    "\n",
    "```\n",
    "\n",
    "\n"
   ]
  },
  {
   "cell_type": "markdown",
   "metadata": {},
   "source": [
    "请定义你自己的语法: "
   ]
  },
  {
   "cell_type": "markdown",
   "metadata": {},
   "source": [
    "第一个语法："
   ]
  },
  {
   "cell_type": "code",
   "execution_count": 4,
   "metadata": {},
   "outputs": [],
   "source": [
    "you_need_replace_this_with_name_you_given = '''\n",
    "# you code here\n",
    "'''\n",
    "import random\n",
    "import os\n",
    "host = \"\"\" \n",
    "[host] = 打招呼|,|[自我介绍]|，|主|谓|宾\n",
    "[自我介绍] = 我是|主|号码|号|人员\n",
    "号码 = 0|1|2|3|4|5\n",
    "人员 = 员工|工作人员\n",
    "打招呼 = 你好|顾客您好|hi|hello|欢迎光临\n",
    "主 = 我们|我们店|本店|咱店\n",
    "谓 = 有|包含|出售\n",
    "宾 = iphone|华为手机|小米|vivo|所有品牌手机|手机|苹果|联想\n",
    "\"\"\""
   ]
  },
  {
   "cell_type": "markdown",
   "metadata": {},
   "source": [
    "第二个语法："
   ]
  },
  {
   "cell_type": "code",
   "execution_count": 5,
   "metadata": {},
   "outputs": [],
   "source": [
    "you_need_replace_this_with_name_you_given = '''\n",
    "# you code here\n",
    "'''\n",
    "consumer = \"\"\"\n",
    "[consumer] = 打招呼|,|主|谓|宾\n",
    "打招呼 = 你好|hello|喂|那个谁\n",
    "主 = 我|我们|咱|我朋友|我同学\n",
    "谓 = 想买|看看|购买\n",
    "宾 = 手机|iPhone|小米|vivo\n",
    "\"\"\""
   ]
  },
  {
   "cell_type": "markdown",
   "metadata": {},
   "source": [
    "TODO: 然后，使用自己之前定义的generate函数，使用此函数生成句子。"
   ]
  },
  {
   "cell_type": "markdown",
   "metadata": {},
   "source": [
    "TODO: 然后，定义一个函数，generate_n，将generate扩展，使其能够生成n个句子:"
   ]
  },
  {
   "cell_type": "code",
   "execution_count": 7,
   "metadata": {},
   "outputs": [
    {
     "name": "stdout",
     "output_type": "stream",
     "text": [
      "你好,我朋友想买小米\n",
      "顾客您好,我是咱店1号工作人员，咱店出售华为手机\n",
      "\n",
      "\n",
      "那个谁,我同学购买手机\n",
      "hi,我是本店1号工作人员，咱店有iphone\n",
      "\n",
      "\n",
      "那个谁,我们想买手机\n",
      "你好,我是我们3号工作人员，本店包含vivo\n",
      "\n",
      "\n",
      "你好,咱想买手机\n",
      "欢迎光临,我是咱店2号员工，我们包含手机\n",
      "\n",
      "\n",
      "那个谁,咱购买小米\n",
      "hello,我是我们店0号员工，我们店有华为手机\n",
      "\n",
      "\n",
      "你好,我同学想买vivo\n",
      "hi,我是本店1号工作人员，我们有所有品牌手机\n",
      "\n",
      "\n",
      "hello,我购买手机\n",
      "hello,我是我们店3号员工，我们包含所有品牌手机\n",
      "\n",
      "\n",
      "喂,我购买手机\n",
      "顾客您好,我是本店5号员工，我们包含iphone\n",
      "\n",
      "\n",
      "那个谁,我想买vivo\n",
      "你好,我是本店3号员工，咱店包含手机\n",
      "\n",
      "\n",
      "那个谁,我朋友看看小米\n",
      "hello,我是咱店1号员工，我们包含华为手机\n",
      "\n",
      "\n"
     ]
    }
   ],
   "source": [
    "def genGrama(grama,split_word = \"|\",split_line = \"=\"):\n",
    "    gramas = {}\n",
    "    lines = grama.split(\"\\n\")\n",
    "    for item in lines:\n",
    "        items = item.split(split_line)\n",
    "        if len(items) <2:\n",
    "            continue\n",
    "        else:\n",
    "            key = items[0].strip(\"\\n\").strip()\n",
    "            gramas[key] = []\n",
    "            for word in items[1].split(split_word):\n",
    "                if word.strip() == \"\":\n",
    "                    continue\n",
    "                gramas[key].append(word.strip())\n",
    "    return gramas\n",
    "gr = genGrama(host)\n",
    "#print(gr)\n",
    "def checkIsSentence(item):\n",
    "    if len(item) < 2:\n",
    "        return False\n",
    "    #print(item[0],item[-1])\n",
    "    if item[0] == '[' and item[-1] == ']':\n",
    "        return True\n",
    "    return False\n",
    "\n",
    "def generate(gra,sentence):\n",
    "    if sentence not in gra.keys():\n",
    "        return sentence\n",
    "    sentence_list = []\n",
    "    for item in gra[sentence]:\n",
    "        if item in gra:\n",
    "            is_sentence = checkIsSentence(item)\n",
    "            if is_sentence == True:\n",
    "                sentence_list.append(generate(gra,item))\n",
    "            else:\n",
    "                sentence_list.append(generate(gra,random.choice(gra[item])))\n",
    "        else:\n",
    "            sentence_list.append(item)\n",
    "    return \"\".join(sentence_list)\n",
    "\n",
    "def generate_n():\n",
    "    # you code here \n",
    "    for i in range(10):\n",
    "        \n",
    "        #name = random.choice(choice_list)\n",
    "        sentence_h = generate(genGrama(host),\"[host]\")\n",
    "        sentence_c = generate(genGrama(consumer),\"[consumer]\")\n",
    "        print(sentence_c)\n",
    "        print(sentence_h)\n",
    "        print(\"\\n\")\n",
    "        \n",
    "    pass\n",
    "generate_n()\n"
   ]
  },
  {
   "cell_type": "markdown",
   "metadata": {},
   "source": [
    ">"
   ]
  },
  {
   "cell_type": "markdown",
   "metadata": {},
   "source": [
    "#### 2. 使用新数据源完成语言模型的训练"
   ]
  },
  {
   "cell_type": "markdown",
   "metadata": {},
   "source": [
    "按照我们上文中定义的`prob_2`函数，我们更换一个文本数据源，获得新的Language Model:\n",
    "\n",
    "1. 下载文本数据集（你可以在以下数据集中任选一个，也可以两个都使用）\n",
    "    + 可选数据集1，保险行业问询对话集： https://github.com/Computing-Intelligence/insuranceqa-corpus-zh/raw/release/corpus/pool/train.txt.gz\n",
    "    + 可选数据集2：豆瓣评论数据集：https://github.com/Computing-Intelligence/datasource/raw/master/movie_comments.csv\n",
    "2. 修改代码，获得新的**2-gram**语言模型\n",
    "    + 进行文本清洗，获得所有的纯文本\n",
    "    + 将这些文本进行切词\n",
    "    + 送入之前定义的语言模型中，判断文本的合理程度"
   ]
  },
  {
   "cell_type": "code",
   "execution_count": 13,
   "metadata": {},
   "outputs": [
    {
     "name": "stdout",
     "output_type": "stream",
     "text": [
      "7913\n",
      "[('保险', 398), ('的', 270), ('人寿保险', 224), ('什么', 223), ('吗', 209), ('是', 193), ('我', 169), ('是否', 144), ('可以', 143), ('健康', 117), ('多少', 110), ('医疗保险', 109), ('汽车保险', 91), ('在', 85), ('如何', 80), ('覆盖', 79), ('你', 72), ('残疾', 60), ('有', 59), ('房主', 54), ('需要', 53), ('谁', 49), ('家庭', 43), ('长期', 43), ('获得', 42), ('为什么', 39), ('护理', 38), ('购买', 37), ('计划', 36), ('退休', 31), ('涵盖', 30), ('支付', 29), ('应该', 29), ('得到', 25), ('租客', 25), ('中', 24), ('没有', 23), ('时候', 23), ('如果', 22), ('一个', 22), ('年金', 22), ('您', 21), ('何时', 21), ('租赁', 20), ('会', 20), ('哪里', 20), ('提供', 19), ('能', 19), ('工作', 18), ('为', 18)]\n",
      "0.0007582459244281562\n",
      "0.00033145508783559825\n",
      "1.0986247525210416e-07\n",
      "3.641447638452242e-11\n",
      "1.0986247525210416e-07\n"
     ]
    }
   ],
   "source": [
    "import jieba\n",
    "import pandas\n",
    "import re\n",
    "import os\n",
    "import numpy\n",
    "#content = pandas.read_csv(\"article_9k.txt\")\n",
    "\n",
    "#articles = content['content'].tolist()\n",
    "#print(len(content))\n",
    "#清理无效字符\n",
    "count = 0\n",
    "\n",
    "    \n",
    "def token(string):\n",
    "    \"\"\"\n",
    "    通过正则表达式去除逗号等无效字符\n",
    "    \"\"\"\n",
    "    return \"\".join(re.findall('\\w+',string))\n",
    "#print(token(\"打算飞撒得粉碎。。。+俄df11 >,,dsd1wo的\"))\n",
    "def cut(string):\n",
    "    \"\"\"\n",
    "    利用jieba分词切词\n",
    "    \"\"\"\n",
    "    return list(jieba.cut(token(string)))\n",
    "from collections import Counter\n",
    "\n",
    "def getWords(filename,encode = 'UTF-8'):\n",
    "    \"\"\"\n",
    "    读取文件获取词汇总\n",
    "    \"\"\"\n",
    "    all_words = []\n",
    "    if not os.path.isfile(filename):\n",
    "        return all_words\n",
    "    f = open(filename,encoding= encode)\n",
    "    count = 0\n",
    "    for line in f.readlines():\n",
    "        #print(line)\n",
    "        all_words.extend(cut(str(line)))\n",
    "        if count >= 1000:\n",
    "            break\n",
    "        count += 1\n",
    "    f.close()\n",
    "    return all_words\n",
    "all_words = getWords(\"train.txt\")\n",
    "print(len(all_words))\n",
    "\n",
    "count_words = Counter(all_words)\n",
    "print(count_words.most_common(50))\n",
    "def prob_1(word):\n",
    "    \"\"\"\n",
    "    计算单个单词的概率\n",
    "    \"\"\"\n",
    "    pro = 0.0\n",
    "    if len(all_words) > 0 and word in count_words:\n",
    "        pro = count_words[word]/len(all_words)\n",
    "    return pro\n",
    "print(prob_1(\"我们\"))\n",
    "\n",
    "from functools import reduce\n",
    "from operator import add,mul\n",
    "def prob_2(word1,word2):\n",
    "    \"\"\"\n",
    "    计算两个单词的概率\n",
    "    \"\"\"\n",
    "    word = word1 + word2\n",
    "    if word in count_words and count_words > 0:\n",
    "        return count_words[word]/len(count_words)\n",
    "    return 1/len(count_words)\n",
    "print(prob_2(\"我们\",\"和\"))\n",
    "def genProbForSentence(sentence):\n",
    "    words = cut(sentence)\n",
    "    prob_all = 1\n",
    "    for i , word in enumerate(words[:-1]):\n",
    "        next_word = words[i+1]\n",
    "        prob_t = prob_2(word,next_word)\n",
    "        prob_all *= prob_t\n",
    "    return prob_all\n",
    "print(genProbForSentence(\"今天天气不错啊\"))\n",
    "print(genProbForSentence(\"他将进行计划\"))\n",
    "print(genProbForSentence(\"我要购买保险\")) \n"
   ]
  },
  {
   "cell_type": "markdown",
   "metadata": {},
   "source": [
    "#### 3. 获得最优质的的语言"
   ]
  },
  {
   "cell_type": "markdown",
   "metadata": {},
   "source": [
    "当我们能够生成随机的语言并且能判断之后，我们就可以生成更加合理的语言了。请定义 generate_best 函数，该函数输入一个语法 + 语言模型，能够生成**n**个句子，并能选择一个最合理的句子: \n",
    "\n"
   ]
  },
  {
   "cell_type": "markdown",
   "metadata": {},
   "source": [
    "提示，要实现这个函数，你需要Python的sorted函数"
   ]
  },
  {
   "cell_type": "code",
   "execution_count": 13,
   "metadata": {},
   "outputs": [
    {
     "data": {
      "text/plain": [
       "[1, 2, 3, 5]"
      ]
     },
     "execution_count": 13,
     "metadata": {},
     "output_type": "execute_result"
    }
   ],
   "source": [
    "sorted([1, 3, 5, 2])"
   ]
  },
  {
   "cell_type": "markdown",
   "metadata": {},
   "source": [
    "这个函数接受一个参数key，这个参数接受一个函数作为输入，例如"
   ]
  },
  {
   "cell_type": "code",
   "execution_count": 15,
   "metadata": {},
   "outputs": [
    {
     "data": {
      "text/plain": [
       "[(1, 4), (2, 5), (4, 4), (5, 0)]"
      ]
     },
     "execution_count": 15,
     "metadata": {},
     "output_type": "execute_result"
    }
   ],
   "source": [
    "sorted([(2, 5), (1, 4), (5, 0), (4, 4)], key=lambda x: x[0])"
   ]
  },
  {
   "cell_type": "markdown",
   "metadata": {},
   "source": [
    "能够让list按照第0个元素进行排序."
   ]
  },
  {
   "cell_type": "code",
   "execution_count": 16,
   "metadata": {},
   "outputs": [
    {
     "data": {
      "text/plain": [
       "[(5, 0), (1, 4), (4, 4), (2, 5)]"
      ]
     },
     "execution_count": 16,
     "metadata": {},
     "output_type": "execute_result"
    }
   ],
   "source": [
    "sorted([(2, 5), (1, 4), (5, 0), (4, 4)], key=lambda x: x[1])"
   ]
  },
  {
   "cell_type": "markdown",
   "metadata": {},
   "source": [
    "能够让list按照第1个元素进行排序."
   ]
  },
  {
   "cell_type": "code",
   "execution_count": 17,
   "metadata": {},
   "outputs": [
    {
     "data": {
      "text/plain": [
       "[(2, 5), (1, 4), (4, 4), (5, 0)]"
      ]
     },
     "execution_count": 17,
     "metadata": {},
     "output_type": "execute_result"
    }
   ],
   "source": [
    "sorted([(2, 5), (1, 4), (5, 0), (4, 4)], key=lambda x: x[1], reverse=True)"
   ]
  },
  {
   "cell_type": "markdown",
   "metadata": {},
   "source": [
    "能够让list按照第1个元素进行排序, 但是是递减的顺序。"
   ]
  },
  {
   "cell_type": "markdown",
   "metadata": {},
   "source": [
    ">"
   ]
  },
  {
   "cell_type": "code",
   "execution_count": 20,
   "metadata": {},
   "outputs": [],
   "source": [
    "def generate_best(): # you code here\n",
    "    pass"
   ]
  },
  {
   "cell_type": "markdown",
   "metadata": {},
   "source": [
    "好了，现在我们实现了自己的第一个AI模型，这个模型能够生成比较接近于人类的语言。"
   ]
  },
  {
   "cell_type": "markdown",
   "metadata": {},
   "source": [
    ">"
   ]
  },
  {
   "cell_type": "markdown",
   "metadata": {},
   "source": [
    "Q: 这个模型有什么问题？ 你准备如何提升？ "
   ]
  },
  {
   "cell_type": "markdown",
   "metadata": {},
   "source": [
    "Ans:"
   ]
  },
  {
   "cell_type": "markdown",
   "metadata": {},
   "source": [
    ">对计算概率的数据集依赖比较大。没有句子规则。"
   ]
  },
  {
   "cell_type": "markdown",
   "metadata": {},
   "source": [
    "##### 以下内容为可选部分，对于绝大多数同学，能完成以上的项目已经很优秀了，下边的内容如果你还有精力可以试试，但不是必须的。"
   ]
  },
  {
   "cell_type": "markdown",
   "metadata": {},
   "source": [
    "#### 4. (Optional) 完成基于Pattern Match的语句问答\n",
    "> 我们的GitHub仓库中，有一个assignment-01-optional-pattern-match，这个难度较大，感兴趣的同学可以挑战一下。"
   ]
  },
  {
   "cell_type": "markdown",
   "metadata": {},
   "source": [
    "\n",
    "#### 5. (Optional) 完成阿兰图灵机器智能原始论文的阅读\n",
    "1. 请阅读阿兰图灵关于机器智能的原始论文：https://github.com/Computing-Intelligence/References/blob/master/AI%20%26%20Machine%20Learning/Computer%20Machinery%20and%20Intelligence.pdf \n",
    "2. 并按照GitHub仓库中的论文阅读模板，填写完毕后发送给我: mqgao@kaikeba.com 谢谢"
   ]
  },
  {
   "cell_type": "markdown",
   "metadata": {},
   "source": [
    "> "
   ]
  },
  {
   "cell_type": "markdown",
   "metadata": {},
   "source": [
    "各位同学，我们已经完成了自己的第一个AI模型，大家对人工智能可能已经有了一些感觉，人工智能的核心就是，我们如何设计一个模型、程序，在外部的输入变化的时候，我们的程序不变，依然能够解决问题。人工智能是一个很大的领域，目前大家所熟知的深度学习只是其中一小部分，之后也肯定会有更多的方法提出来，但是大家知道人工智能的目标，就知道了之后进步的方向。"
   ]
  },
  {
   "cell_type": "markdown",
   "metadata": {},
   "source": [
    "然后，希望大家对AI不要有恐惧感，这个并不难，大家加油！"
   ]
  },
  {
   "cell_type": "markdown",
   "metadata": {},
   "source": [
    ">"
   ]
  },
  {
   "cell_type": "markdown",
   "metadata": {},
   "source": [
    "![](https://timgsa.baidu.com/timg?image&quality=80&size=b9999_10000&sec=1561828422005&di=48d19c16afb6acc9180183a6116088ac&imgtype=0&src=http%3A%2F%2Fb-ssl.duitang.com%2Fuploads%2Fitem%2F201807%2F28%2F20180728150843_BECNF.thumb.224_0.jpeg)"
   ]
  }
 ],
 "metadata": {
  "kernelspec": {
   "display_name": "Python 3",
   "language": "python",
   "name": "python3"
  },
  "language_info": {
   "codemirror_mode": {
    "name": "ipython",
    "version": 3
   },
   "file_extension": ".py",
   "mimetype": "text/x-python",
   "name": "python",
   "nbconvert_exporter": "python",
   "pygments_lexer": "ipython3",
   "version": "3.7.4"
  }
 },
 "nbformat": 4,
 "nbformat_minor": 2
}
